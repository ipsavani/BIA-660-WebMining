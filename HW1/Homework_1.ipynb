{
 "cells": [
  {
   "cell_type": "markdown",
   "metadata": {},
   "source": [
    "## <h1><center>Assignment 1</center></h1>\n",
    "\n",
    "Instructions:\n",
    "\n",
    "- Please read the problem description carefully\n",
    "- Make sure to complete all requirement (shown as bullets) . In general, it would be much easier if you complete the requirements in the order as shown in the problem description\n"
   ]
  },
  {
   "cell_type": "markdown",
   "metadata": {},
   "source": [
    "## Q1. Define a function to analyze the frequency of words in a string (3 points)\n",
    " - Define a function which does the following:\n",
    "     * has a string as an input\n",
    "     * splits the string into a list of tokens by space. \n",
    "         - e.g., \"it's a hello world!!!\" will be split into two tokens [\"it's\", \"a\",\"hello\",\"world!!!\"]   \n",
    "     * if a token starts with or ends with one or more punctuations, remove these punctuations, e.g. \"world<font color=\"red\">!!!</font>\" -> \"world\".(<font color=\"blue\">hint, you can import module *string*, use *string.punctuation* to get a list of punctuations (say *puncts*), and then use function *strip(puncts)* to remove leading or trailing punctuations </font>) \n",
    "     * remove the space surrounding each token\n",
    "     * only keep tokens with 2 or more characters, i.e. *len*(token)>1 \n",
    "     * converts all tokens into lower case \n",
    "     * create a dictionary to save the count of each uninque word \n",
    "     * sort the dictionary by word count in descending order\n",
    "     * return the sorted dictionary \n",
    "    "
   ]
  },
  {
   "cell_type": "code",
   "execution_count": 4,
   "metadata": {},
   "outputs": [],
   "source": [
    "from string import punctuation as punc\n",
    "\n",
    "def stripPunc(token: str)-> str:\n",
    "    res = ''\n",
    "    for t in token:\n",
    "        if t not in punc:\n",
    "            res+=t\n",
    "    return res.lower().strip() \n",
    "\n",
    "def tokensList(string: str)->dict:\n",
    "    string = list(map(stripPunc,string.split(\" \")))\n",
    "    res = {}\n",
    "    for s in string:\n",
    "        if not s: continue\n",
    "        if res.get(s) == None:\n",
    "            res[s] = 1\n",
    "        else:\n",
    "            res[s] += 1\n",
    "    res = dict(sorted(res.items(),key = lambda x: -x[1]))\n",
    "    return res\n"
   ]
  },
  {
   "cell_type": "code",
   "execution_count": 7,
   "metadata": {},
   "outputs": [
    {
     "data": {
      "text/plain": [
       "{'to': 7,\n",
       " 'people': 3,\n",
       " 'with': 2,\n",
       " 'moderately': 2,\n",
       " 'severely': 2,\n",
       " 'compromised': 2,\n",
       " 'immune': 2,\n",
       " 'systems': 2,\n",
       " 'are': 2,\n",
       " 'not': 2,\n",
       " 'vaccine': 2,\n",
       " 'series': 2,\n",
       " 'immunocompromised': 2,\n",
       " 'additional': 2,\n",
       " 'dose': 2,\n",
       " 'especially': 1,\n",
       " 'vulnerable': 1,\n",
       " 'covid19': 1,\n",
       " 'and': 1,\n",
       " 'may': 1,\n",
       " 'build': 1,\n",
       " 'the': 1,\n",
       " 'same': 1,\n",
       " 'level': 1,\n",
       " 'of': 1,\n",
       " 'immunity': 1,\n",
       " '2dose': 1,\n",
       " 'compared': 1,\n",
       " 'who': 1,\n",
       " 'this': 1,\n",
       " 'intended': 1,\n",
       " 'improve': 1,\n",
       " 'people’s': 1,\n",
       " 'response': 1,\n",
       " 'their': 1,\n",
       " 'initial': 1,\n",
       " 'cdc': 1,\n",
       " 'recommends': 1,\n",
       " 'that': 1,\n",
       " 'receive': 1,\n",
       " 'an': 1}"
      ]
     },
     "execution_count": 7,
     "metadata": {},
     "output_type": "execute_result"
    }
   ],
   "source": [
    "# test your code\n",
    "text = '''People with moderately to severely compromised immune systems are especially vulnerable to COVID-19, \n",
    "    and may not build the same level of immunity to 2-dose vaccine series compared to people \n",
    "    who are not immunocompromised. This additional dose intended to improve immunocompromised \n",
    "    people’s response to their initial vaccine series. CDC recommends that people with moderately to \n",
    "    severely compromised immune systems receive an additional dose '''\n",
    "\n",
    "tokensList(text)"
   ]
  },
  {
   "cell_type": "markdown",
   "metadata": {},
   "source": [
    "## Q2. Define a function to analyze a numpy array (4 points)\n",
    " - Assume we have an array $X$ which contains term frequency of each document. In this array, each row presents a document, each column denotes a word, and each value, say $x_{i,j}$,  denotes the frequency of the word $j$ in document $i$. Therefore, if there are  $m$ documents, $n$ words, $X$ has a shape of $(m, n)$.\n",
    " \n",
    " Define a function which:\n",
    "      * Take $X$ as an input.\n",
    "      * Divides word frequency $x_{i,j}$ by the total number of words in document $i$. Save the result as an array named $tf$ ($tf$ has shape of $(m,n)$).\n",
    "      * Calculate the document frequency $df_j$ for word $j$, e.g. how many documents contain word $j$. Save the result to array $df$ ($df$ has shape of $(n,)$).\n",
    "      * Calculate $idf_j =  ln(\\frac{|m|}{df_j})+1$. m is the number of documents. The reason is, if a word appears in most documents, it does not have the discriminative power and often is called a `stop` word. The inverse of $df$ can downgrade the weight of such words. ($idf_j$ has shape of $(n,)$).\n",
    "      * For each $x_{i,j}$, calculates $tf\\_idf_{i,j} = tf_(i,j) * idf_j$. ($tf\\_idf$ has shape of $(m,n)$).\n",
    "      * Now, please print the following:\n",
    "          * print the index of the longest document\n",
    "          * print the indexes of words with the top 3 largest $df$ values\n",
    "          * for the longest document, print the indexes of words with top 3 largest values in the $tf\\_idf$ array (use the index you got previously). \n",
    "      * Return the $tf\\_idf$ array.\n",
    " - Note, for all the steps, **do not use any loop**. Just use array functions and broadcasting for high performance computation."
   ]
  },
  {
   "cell_type": "code",
   "execution_count": 29,
   "metadata": {},
   "outputs": [],
   "source": [
    "import numpy as np\n",
    "import pandas as pd"
   ]
  },
  {
   "cell_type": "code",
   "execution_count": 7,
   "metadata": {},
   "outputs": [],
   "source": [
    "\n",
    "\n",
    "def text_analyzer_q2(X): #takes array as an input\n",
    "\n",
    "    tf_idf = None\n",
    "\n",
    "    \n",
    "\n",
    "    a1 = np.sum(X,axis=1) #for normalizing friquency selects each elements\n",
    "\n",
    "    idx = np.where(a1 == max(a1))[0] # index with the longest document\n",
    "\n",
    "    print(\"Indexes of the longest documents:\", idx)\n",
    "\n",
    "    \n",
    "\n",
    "    tf = np.divide(X.T,a1) #decides word frequency by length of the document and saves result in tf\n",
    "\n",
    "    \n",
    "\n",
    "    a2 = np.where(tf.T>0,1,0)\n",
    "\n",
    "    df = np.sum(a2,axis=0) #calculates the document frequency of each word in df\n",
    "\n",
    "    \n",
    "\n",
    "    df_max = np.argsort(df)\n",
    "\n",
    "    print(\"Indexes of words with the top 3 largest df values\", df_max[:-4:-1])\n",
    "\n",
    "    tf_idf = tf.T/df #tf/df\n",
    "\n",
    "    f = np.argsort(tf_idf) #it will count the indexs according to word which was appered most of the time in ascending order\n",
    "\n",
    "    \n",
    "\n",
    "    print(\"Indexes of words with top 3 largest tf_idf values in the longest document:\", f[idx,-3:][0]) # prints only indexes of words with top 3 largest values in the tf_idf array\n",
    "\n",
    "    return tf_idf\n"
   ]
  },
  {
   "cell_type": "code",
   "execution_count": 12,
   "metadata": {
    "scrolled": true
   },
   "outputs": [
    {
     "name": "stdout",
     "output_type": "stream",
     "text": [
      "Indexes of the longest documents: [0 1]\n",
      "Indexes of words with the top 3 largest df values [ 4  5 15]\n",
      "Indexes of words with top 3 largest tf_idf values in the longest document: [2 3 6]\n"
     ]
    },
    {
     "data": {
      "text/plain": [
       "array([[0.14285714, 0.14285714, 0.14285714, 0.14285714, 0.04761905,\n",
       "        0.07142857, 0.14285714, 0.        , 0.        , 0.        ,\n",
       "        0.        , 0.        , 0.        , 0.        , 0.        ,\n",
       "        0.        ],\n",
       "       [0.        , 0.        , 0.        , 0.        , 0.04761905,\n",
       "        0.07142857, 0.        , 0.14285714, 0.14285714, 0.14285714,\n",
       "        0.14285714, 0.14285714, 0.        , 0.        , 0.        ,\n",
       "        0.        ],\n",
       "       [0.        , 0.        , 0.        , 0.        , 0.06666667,\n",
       "        0.        , 0.        , 0.        , 0.        , 0.        ,\n",
       "        0.        , 0.        , 0.2       , 0.2       , 0.2       ,\n",
       "        0.2       ]])"
      ]
     },
     "execution_count": 12,
     "metadata": {},
     "output_type": "execute_result"
    }
   ],
   "source": [
    "# dtm.csv is a csv file for test. \n",
    "# It contains word counts in a few documents\n",
    "dtm = pd.read_csv(\"C://Users//prans//Downloads//dtm.csv\")\n",
    "text_analyzer_q2(dtm.values)\n"
   ]
  },
  {
   "cell_type": "markdown",
   "metadata": {},
   "source": [
    "## Q3. Define a function to analyze a dataset using pandas (3 points)\n",
    "\n",
    "- The dataset \"emotion.csv\" contains a number of text and ten types of sentiment scores. Define a function named `emotion_analysis` to do the follows:\n",
    "   * Read \"emotion.csv\" as a dataframe with the first row in the csv file as column names\n",
    "   * Count the number of samples labeled for each emotion (i.e. each value in the column \"emotion). Print the counts.\n",
    "   * Add a column \"length\" that calculates the number of words for each text. (hint: \"apply\" function to split the text by space and then count elements in the resulting list)\n",
    "   * Show the min, max, and mean values of sadness, happiness, and text length for each emotion. Print the results.\n",
    "   * Create a cross tabulation of average anxiety scores. Use \"emotion\" as row index, \"worry\" as column index, and \"anxiety\" as values. Print the table.\n",
    " - This function does not have any return. Just print out the result of each calculation step."
   ]
  },
  {
   "cell_type": "code",
   "execution_count": 22,
   "metadata": {},
   "outputs": [
    {
     "name": "stdout",
     "output_type": "stream",
     "text": [
      "Number of rows for emotion Sadness are:  357\n",
      "Number of rows for emotion Anxiety are:  1381\n",
      "Number of rows for emotion Relaxation are:  333\n",
      "Number of rows for emotion Fear are:  230\n",
      "Number of rows for emotion Anger are:  107\n",
      "Number of rows for emotion Desire are:  27\n",
      "Number of rows for emotion Happiness are:  39\n",
      "Number of rows for emotion Disgust are:  17\n",
      "\n",
      "\n",
      "For emotion Sadness : min value:  1 , max value:  547 , mean value:  120.09243697478992\n",
      "For emotion Happiness : min value:  92 , max value:  274 , mean value:  121.35897435897436\n"
     ]
    }
   ],
   "source": [
    "import pandas as pd\n",
    "import numpy as np\n",
    "\n",
    "def emotion_analysis():\n",
    "    # Read \"emotion.csv\" as a dataframe with the first row in the csv file as column names\n",
    "    data = pd.read_csv(\"C://Users//prans//Downloads//emotion.csv\")\n",
    "\n",
    "    # Count the number of samples labeled for each emotion\n",
    "    emotions = list(data['emotion'].unique())\n",
    "    for emotion in emotions:\n",
    "        df_len = len(data[data['emotion']==emotion])\n",
    "        print('Number of rows for emotion',emotion,'are: ',df_len)\n",
    "\n",
    "    print('\\n')\n",
    "    # Add a column \"length\" that calculates the number of words for each text.\n",
    "    length = [len(row.split()) for row in data['text']]\n",
    "    data['length'] = length\n",
    "    #print(data['length'])\n",
    "\n",
    "    # Show the min, max, and mean values of sadness, happiness, and text length for each emotion.\n",
    "    emotions = ['Sadness','Happiness'] # using jou instead of happiness\n",
    "    for emotion in emotions:\n",
    "        df_length = list(data[data['emotion']==emotion]['length'])\n",
    "        print('For emotion',emotion,': min value: ',min(df_length),', max value: ',max(df_length),', mean value: ',np.mean(df_length))\n",
    "\n",
    "    # Create a cross tabulation of average anxiety scores. Use \"emotion\" as row index, \"length\" as column index, and \"anxiety\" as values.\n",
    "\n",
    "    return(None)\n",
    "\n",
    "emotion_analysis()"
   ]
  },
  {
   "cell_type": "code",
   "execution_count": 35,
   "metadata": {},
   "outputs": [
    {
     "name": "stdout",
     "output_type": "stream",
     "text": [
      "   worry  emotion  anger  disgust  fear  anxiety  sadness  happiness  \\\n",
      "0      3  Sadness      5        5     3        7        7          2   \n",
      "1      8  Anxiety      6        7     7        8        6          4   \n",
      "\n",
      "   relaxation  desire                                               text  \n",
      "0           4       5  It is less an much an issue of how it affects ...  \n",
      "1           3       1  I am concerned that the true impact of the cur...  \n",
      "===The number of samples labeled for each emotion===\n",
      "Anxiety       1381\n",
      "Sadness        357\n",
      "Relaxation     333\n",
      "Fear           230\n",
      "Anger          107\n",
      "Happiness       39\n",
      "Desire          27\n",
      "Disgust         17\n",
      "Name: emotion, dtype: int64\n",
      "\n",
      "\n",
      "=== min, max, and mean values of sadness, happiness, and text length for each emotion===\n",
      "             sadness           happiness                length           \n",
      "                mean amin amax      mean amin amax        mean amin  amax\n",
      "emotion                                                                  \n",
      "Anger       5.672897    1    9  3.177570    1    8  122.084112   88   374\n",
      "Anxiety     5.719768    1    9  3.333816    1    9  118.066618   59   541\n",
      "Desire      4.148148    1    8  4.925926    2    8  150.259259   89  1018\n",
      "Disgust     4.764706    1    8  3.764706    1    6  108.411765   58   158\n",
      "Fear        6.565217    1    9  3.056522    1    9  118.852174   80   322\n",
      "Happiness   2.666667    1    9  7.230769    4    9  122.461538   92   272\n",
      "Relaxation  2.858859    1    9  5.369369    1    9  119.696697    1   292\n",
      "Sadness     7.436975    2    9  3.112045    1    9  122.117647   85   544\n",
      "\n",
      "\n",
      "=== Cross tabulation of anxiety score by emotion and worry ===\n",
      "worry          1         2         3         4         5         6         7  \\\n",
      "emotion                                                                        \n",
      "Anger       5.50  1.250000  3.416667  4.222222  5.125000  5.833333  6.040000   \n",
      "Anxiety     3.00  7.000000  5.222222  5.941176  6.149425  6.938931  7.597166   \n",
      "Desire       NaN  1.000000  3.142857  3.250000  3.666667  6.375000  6.000000   \n",
      "Disgust      NaN  5.000000       NaN  4.500000  5.000000  4.800000  5.750000   \n",
      "Fear         NaN       NaN  6.000000  5.000000  5.714286  5.454545  6.918033   \n",
      "Happiness   1.00  3.000000  2.400000  3.000000  1.000000  2.625000  4.000000   \n",
      "Relaxation  1.25  1.777778  2.301887  3.029851  3.090909  4.137931  4.219512   \n",
      "Sadness     2.50  3.857143  3.368421  4.606061  4.882353  5.325301  6.156863   \n",
      "\n",
      "worry              8         9  \n",
      "emotion                         \n",
      "Anger       7.000000  7.437500  \n",
      "Anxiety     8.220126  8.770186  \n",
      "Desire           NaN       NaN  \n",
      "Disgust          NaN       NaN  \n",
      "Fear        7.643836  8.256757  \n",
      "Happiness   2.000000  6.500000  \n",
      "Relaxation  3.562500  4.200000  \n",
      "Sadness     6.565217  7.258065  \n"
     ]
    }
   ],
   "source": [
    "emotion_analysis()"
   ]
  },
  {
   "cell_type": "markdown",
   "metadata": {},
   "source": [
    "### Bonus question (3 points)\n",
    "1. Suppose your machine learning model returns a list of probabilities as the output. Write a function to do the following:\n",
    "    - Given a threshold, say $th$, if a probability > $th$, the prediction is positive; otherwise, negative\n",
    "    - Compare the prediction with the ground truth labels to calculate the confusion matrix as [[TN, FN],[FP,TP]], where:\n",
    "        * True Positives (TP): the number of correct positive predictions\n",
    "        * False Positives (FP): the number of postive predictives which actually are negatives\n",
    "        * True Negatives (TN): the number of correct negative predictions\n",
    "        * False Negatives (FN): the number of negative predictives which actually are positives\n",
    "    - Calculate **precision** as $TP/(TP+FP)$ and **recall** as $TP/(TP+FN)$\n",
    "    - return precision and recall. \n",
    "2. Call this function with $th$ varying from 0.05 to 0.95 with an increase of 0.05. Plot a line chart to see how precision and recall change by $th$"
   ]
  },
  {
   "cell_type": "code",
   "execution_count": 28,
   "metadata": {},
   "outputs": [],
   "source": [
    "prob =np.array([0.28997326, 0.10166073, 0.10759583, 0.0694934 , 0.6767239 ,\n",
    "       0.01446897, 0.15268748, 0.15570522, 0.12159665, 0.22593857,\n",
    "       0.98162019, 0.47418329, 0.09376987, 0.80440782, 0.88361167,\n",
    "       0.21579844, 0.72343069, 0.06605903, 0.15447797, 0.10967575,\n",
    "       0.93020135, 0.06570391, 0.05283854, 0.09668829, 0.05974545,\n",
    "       0.04874688, 0.07562255, 0.11103822, 0.71674525, 0.08507381,\n",
    "       0.630128  , 0.16447478, 0.16914903, 0.1715767 , 0.08040751,\n",
    "       0.7001173 , 0.04428363, 0.19469664, 0.12247959, 0.14000294,\n",
    "       0.02411263, 0.26276603, 0.11377073, 0.07055441, 0.2021157 ,\n",
    "       0.11636899, 0.90348488, 0.10191679, 0.88744523, 0.18938904])\n",
    "\n",
    "truth = np.array([1, 0, 0, 0, 1, 0, 0, 0, 0, 0, 1, 1, 0, 1, 1, 0, 1, 0, 0, 0, 1, 0,\n",
    "       0, 0, 0, 0, 0, 0, 1, 0, 1, 0, 0, 0, 0, 0, 0, 0, 0, 0, 0, 0, 0, 0,\n",
    "       0, 0, 1, 0, 1, 0])"
   ]
  },
  {
   "cell_type": "code",
   "execution_count": 32,
   "metadata": {},
   "outputs": [],
   "source": [
    "def evaluate_performance(prob, truth, th):\n",
    "    conf = [[0, 0], [0, 0]]\n",
    "    \n",
    "    # add your code here\n",
    "\n",
    "   \n",
    "\n",
    "    return \n"
   ]
  },
  {
   "cell_type": "code",
   "execution_count": 36,
   "metadata": {},
   "outputs": [],
   "source": [
    "# Test with threhold 0.5\n",
    "\n",
    "\n"
   ]
  },
  {
   "cell_type": "code",
   "execution_count": 34,
   "metadata": {},
   "outputs": [
    {
     "name": "stdout",
     "output_type": "stream",
     "text": [
      "          prec       rec\n",
      "0.05  0.260870  1.000000\n",
      "0.10  0.342857  1.000000\n",
      "0.15  0.480000  1.000000\n",
      "0.20  0.705882  1.000000\n",
      "0.25  0.857143  1.000000\n",
      "0.30  0.916667  0.916667\n",
      "0.35  0.916667  0.916667\n",
      "0.40  0.916667  0.916667\n",
      "0.45  0.916667  0.916667\n",
      "0.50  0.909091  0.833333\n",
      "0.55  0.909091  0.833333\n",
      "0.60  0.909091  0.833333\n",
      "0.65  0.900000  0.750000\n",
      "0.70  0.888889  0.666667\n",
      "0.75  1.000000  0.500000\n",
      "0.80  1.000000  0.500000\n",
      "0.85  1.000000  0.416667\n",
      "0.90  1.000000  0.250000\n",
      "0.95  1.000000  0.083333\n"
     ]
    },
    {
     "data": {
      "text/plain": [
       "<matplotlib.legend.Legend at 0x7fa34237eb90>"
      ]
     },
     "execution_count": 34,
     "metadata": {},
     "output_type": "execute_result"
    },
    {
     "data": {
      "image/png": "[encoded data removed]",
      "text/plain": [
       "<Figure size 576x288 with 1 Axes>"
      ]
     },
     "metadata": {
      "needs_background": "light"
     },
     "output_type": "display_data"
    }
   ],
   "source": []
  },
  {
   "cell_type": "code",
   "execution_count": null,
   "metadata": {},
   "outputs": [],
   "source": []
  }
 ],
 "metadata": {
  "kernelspec": {
   "display_name": "Python 3 (ipykernel)",
   "language": "python",
   "name": "python3"
  },
  "language_info": {
   "codemirror_mode": {
    "name": "ipython",
    "version": 3
   },
   "file_extension": ".py",
   "mimetype": "text/x-python",
   "name": "python",
   "nbconvert_exporter": "python",
   "pygments_lexer": "ipython3",
   "version": "3.9.7"
  }
 },
 "nbformat": 4,
 "nbformat_minor": 4
}
